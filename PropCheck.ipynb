{
  "cells": [
    {
      "cell_type": "markdown",
      "metadata": {
        "id": "nLrC77wJSM0M"
      },
      "source": [
        "# Python Basics\n"
      ]
    },
    {
      "cell_type": "code",
      "execution_count": 53,
      "metadata": {
        "id": "-WYlCdY0SIvI"
      },
      "outputs": [],
      "source": [
        "import pandas as pd\n",
        "import numpy as np\n",
        "import matplotlib.pyplot as plt\n",
        "import seaborn as sns\n",
        "import yfinance as yf\n",
        "\n",
        "\n",
        "DJ = pd.read_csv(\"csv/20M/SPX500_M20_202202140120_202204282240.csv\",delim_whitespace=True)\n",
        "timeFrame = int(input('TimeFrame:'))\n",
        "CandlesInDay = 24 * (60//timeFrame)\n",
        "DJ.insert(7, '<CANDLESIZE>',value=0)\n",
        "DJ.drop(['<HIGH>','<LOW>','<TICKVOL>','<VOL>','<SPREAD>'],axis=1,inplace=True)\n",
        "DJ['<CANDLESIZE>'] =  DJ['<CLOSE>'] > DJ['<OPEN>']\n",
        "\n"
      ]
    },
    {
      "cell_type": "code",
      "execution_count": 54,
      "metadata": {},
      "outputs": [],
      "source": [
        "def candleToTime(j):\n",
        "    k=j//minuteMult\n",
        "    sth=timeFrame*(j%minuteMult)\n",
        "    return '{:02d}:{:02d}:00'.format(k,sth)\n",
        "\n",
        "uniqueDays = DJ.drop_duplicates(subset='<DATE>')\n",
        "uniqueDays = pd.DataFrame(uniqueDays)\n",
        "\n",
        "uniqueDaysCount=uniqueDays.shape[0]\n",
        "\n",
        "\n",
        "newDF = pd.DataFrame(columns=['<DATE>','<TIME>','<OPEN>','<CLOSE>','<CANDLESIZE>'])\n",
        "\n",
        "minuteMult = CandlesInDay//24\n",
        "\n",
        "\n",
        "\n",
        "for i in range(uniqueDays.shape[0]):\n",
        "    for j in range(CandlesInDay):\n",
        "        \n",
        "        newDF.loc[(i*CandlesInDay)+j]=[uniqueDays.iloc[i][0],candleToTime(j),0,0,0]\n"
      ]
    },
    {
      "cell_type": "code",
      "execution_count": 55,
      "metadata": {},
      "outputs": [],
      "source": [
        "newestDF = newDF.merge(DJ,on=['<DATE>','<TIME>'],how='left')\n",
        "\n",
        "newestDF.drop(columns=['<OPEN>_x','<CLOSE>_x','<CANDLESIZE>_x','<CLOSE>_y','<OPEN>_y'],inplace=True)\n",
        "newestDF['<CANDLESIZE>_y'] = newestDF['<CANDLESIZE>_y'].fillna(0)\n",
        "\n"
      ]
    },
    {
      "cell_type": "code",
      "execution_count": 56,
      "metadata": {},
      "outputs": [],
      "source": [
        "list = []\n",
        "for i in range(len(newestDF)):\n",
        "    date = newestDF.iloc[i][0]\n",
        "    time = newestDF.iloc[i][1]\n",
        "    GreenOrRed = newestDF.iloc[i][2]\n",
        "    list.append([date, time, GreenOrRed])\n"
      ]
    },
    {
      "cell_type": "code",
      "execution_count": 57,
      "metadata": {},
      "outputs": [],
      "source": [
        "days = []\n",
        "for i in range(uniqueDaysCount): \n",
        "    days.append(list[i*CandlesInDay: CandlesInDay*(i+1)])\n"
      ]
    },
    {
      "cell_type": "code",
      "execution_count": 58,
      "metadata": {},
      "outputs": [],
      "source": [
        "\n",
        "\n",
        "def eachDayMat(day):\n",
        "    ansMatrix = np.zeros((CandlesInDay,CandlesInDay),dtype=int)\n",
        "    for i in range(len(day)) : \n",
        "        for j in range (i,len(day)):\n",
        "            ansMatrix[i][j]=not(day[i][2] ^ day[j][2])\n",
        "\n",
        "    return ansMatrix\n",
        "\n",
        "ansVector = []\n",
        "for i in range(len(days)):\n",
        "    ansVector.append(eachDayMat(days[i]))\n",
        "\n",
        "final = np.sum(ansVector, axis=0)\n",
        "# final-=len(days)//2"
      ]
    },
    {
      "cell_type": "code",
      "execution_count": 59,
      "metadata": {},
      "outputs": [
        {
          "name": "stdout",
          "output_type": "stream",
          "text": [
            "Consecutive: 64-65 21:20:00-21:40:00 73.58% ++\n",
            "Consecutive: 66-67 22:00:00-22:20:00 73.58% ++\n"
          ]
        }
      ],
      "source": [
        "bias=.68\n",
        "# float(input('Bias:')) \n",
        "\n",
        "\n",
        "\n",
        "for i in range(len(final)):\n",
        "    for j in range (i,len(final)):\n",
        "        if (final[i][j]>(bias*uniqueDaysCount) or final[i][j]<((1-bias)*uniqueDaysCount) )and (not i==j):\n",
        "            firstouterCandles = 60//timeFrame\n",
        "            lastouterCandles = CandlesInDay - firstouterCandles\n",
        "            if(i<firstouterCandles or j<firstouterCandles or i>lastouterCandles or j>lastouterCandles):\n",
        "                continue\n",
        "            else:\n",
        "                probability = int(final[i][j]/uniqueDaysCount*10000)/100\n",
        "                if(j-i==1):\n",
        "\n",
        "                    print(f\"Consecutive: {i}-{j}\",f\"{candleToTime(i)}-{candleToTime(j)}\",f\"{probability}% ++\") if probability>50 else print(f\"Consecutive: {i}-{j}\",f\"{candleToTime(i)}-{candleToTime(j)}\",f\"{probability}% --\")\n",
        "                    \n",
        "                # else:\n",
        "                    # print(f\"{i}-{j}\",f\"{candleToTime(i)}-{candleToTime(j)}\",f\"{probability}% ++\") if probability>50 else print(f\"Consecutive: {i}-{j}\",f\"{candleToTime(i)}-{candleToTime(j)}\",f\"{probability}% --\")\n",
        "\n",
        "\n",
        "\n"
      ]
    }
  ],
  "metadata": {
    "colab": {
      "name": "ML-Course.ipynb",
      "provenance": []
    },
    "kernelspec": {
      "display_name": "Python 3",
      "name": "python3"
    },
    "language_info": {
      "codemirror_mode": {
        "name": "ipython",
        "version": 3
      },
      "file_extension": ".py",
      "mimetype": "text/x-python",
      "name": "python",
      "nbconvert_exporter": "python",
      "pygments_lexer": "ipython3",
      "version": "3.10.4"
    }
  },
  "nbformat": 4,
  "nbformat_minor": 0
}
