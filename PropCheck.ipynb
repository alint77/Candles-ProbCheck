{
  "cells": [
    {
      "cell_type": "markdown",
      "metadata": {
        "id": "nLrC77wJSM0M"
      },
      "source": [
        "# Python Basics\n"
      ]
    },
    {
      "cell_type": "code",
      "execution_count": 1,
      "metadata": {},
      "outputs": [],
      "source": [
        "import pandas as pd\n",
        "import numpy as np\n",
        "import matplotlib.pyplot as plt\n",
        "import seaborn as sns\n",
        "import ta\n",
        "import datetime\n",
        "\n"
      ]
    },
    {
      "cell_type": "code",
      "execution_count": 2,
      "metadata": {
        "id": "-WYlCdY0SIvI"
      },
      "outputs": [],
      "source": [
        "\n",
        "\n",
        "csvFileAddress = 'csv/WTI_M20_202102010100_202301272340.csv'\n",
        "\n",
        "\n",
        "DJ = pd.read_csv(csvFileAddress,delim_whitespace=True)\n",
        "\n",
        "DJ['<ISGREEN>'] =  DJ['<CLOSE>'] > DJ['<OPEN>']\n",
        "DJ['<SIZE>'] =  DJ['<CLOSE>'] - DJ['<OPEN>']\n",
        "DJ['<VOLATILITY>'] =  DJ['<HIGH>'] - DJ['<LOW>']\n",
        "\n",
        "DJ.drop(['<VOL>'],axis=1,inplace=True)\n",
        "\n"
      ]
    },
    {
      "cell_type": "code",
      "execution_count": 3,
      "metadata": {},
      "outputs": [],
      "source": [
        "timeFrame = (int(DJ.iloc[1][1][1])-int(DJ.iloc[0][1][1]) ) * 60 + (int(DJ.iloc[1][1][3:5])-int(DJ.iloc[0][1][3:5]))\n",
        "CandlesInDay = 24 * (60//timeFrame)"
      ]
    },
    {
      "cell_type": "code",
      "execution_count": 4,
      "metadata": {},
      "outputs": [
        {
          "data": {
            "text/plain": [
              "20"
            ]
          },
          "execution_count": 4,
          "metadata": {},
          "output_type": "execute_result"
        }
      ],
      "source": [
        "timeFrame"
      ]
    },
    {
      "cell_type": "code",
      "execution_count": 5,
      "metadata": {},
      "outputs": [],
      "source": [
        "def candleToTime(j):\n",
        "    minuteMult = CandlesInDay//24\n",
        "    k=j//minuteMult\n",
        "    sth=timeFrame*(j%minuteMult)\n",
        "    return '{:02d}:{:02d}:00'.format(k,sth)\n",
        "\n",
        "uniqueDays = DJ.drop_duplicates(subset='<DATE>')\n",
        "uniqueDays = pd.DataFrame(uniqueDays)\n",
        "\n",
        "uniqueDaysCount=uniqueDays.shape[0]\n",
        "\n",
        "\n",
        "newnumparr = np.full((uniqueDaysCount*CandlesInDay,2),'',dtype=np.object_)\n",
        "\n",
        "\n",
        "for i in range(uniqueDaysCount):\n",
        "    for j in range(CandlesInDay):\n",
        "        newnumparr[(i*CandlesInDay)+j]=[uniqueDays.iloc[i][0],candleToTime(j)]\n",
        "\n",
        "newDF = pd.DataFrame(newnumparr,columns=['<DATE>','<TIME>'])\n"
      ]
    },
    {
      "cell_type": "code",
      "execution_count": 6,
      "metadata": {},
      "outputs": [],
      "source": [
        "\n",
        "newestDF = newDF.merge(DJ,on=['<DATE>','<TIME>'],how='left')\n",
        "\n",
        "# newestDF.drop(columns=['<OPEN>_x','<CLOSE>_x','<SIZE>_x','<VOLATILITY>_x','<ISGREEN>_x'],inplace=True)\n",
        "newestDF.fillna(0,inplace=True)\n",
        "\n",
        "newestDF['<EMA30>']= ta.trend.ema_indicator( newestDF['<CLOSE>'],window=30)\n",
        "newestDF['<EMA50>']= ta.trend.ema_indicator( newestDF['<CLOSE>'],window=50)\n",
        "newestDF['<EMA200>']= ta.trend.ema_indicator( newestDF['<CLOSE>'],window=200)\n",
        "\n",
        "def Upper(e):\n",
        "    if e['<ISGREEN>'] : \n",
        "        return e['<HIGH>']-e['<CLOSE>']\n",
        "    return e['<HIGH>']-e['<OPEN>']\n",
        "\n",
        "def Lower(e):\n",
        "    if e['<ISGREEN>'] : \n",
        "        return e['<OPEN>']-e['<LOW>']\n",
        "    return e['<CLOSE>']-e['<LOW>']\n",
        "\n",
        "\n",
        "newestDF['<UPPER>'] = newestDF.apply(Upper,axis=1)\n",
        "newestDF['<LOWER>'] = newestDF.apply(Lower,axis=1)\n",
        "\n",
        "\n"
      ]
    },
    {
      "cell_type": "code",
      "execution_count": 7,
      "metadata": {},
      "outputs": [],
      "source": [
        "# Compute RSI\n",
        "\n",
        "newestDF['<RSI>'] = ta.momentum.rsi(newestDF['<CLOSE>'],window=15) / 100\n",
        "newestDF['<CCI>'] = ta.trend.cci(close=newestDF['<CLOSE>'],high=newestDF['<HIGH>'],low=newestDF['<LOW>'],window=14)\n",
        "\n",
        "\n",
        "keltner = ta.volatility.KeltnerChannel(close=newestDF['<CLOSE>'],high=newestDF['<HIGH>'],low=newestDF['<LOW>'],window=20,window_atr=10,multiplier=2.5)\n",
        "newestDF['<KELTNER_H>'] = keltner.keltner_channel_hband()\n",
        "newestDF['<KELTNER_L>'] = keltner.keltner_channel_lband()\n",
        "newestDF['<KELTNER_M>'] = keltner.keltner_channel_mband()\n",
        "\n",
        "\n",
        "newestDF['<ATR_24>'] = ta.volatility.average_true_range(close=newestDF['<CLOSE>'],high=newestDF['<HIGH>'],low=newestDF['<LOW>'],window=12).apply(lambda e : e/100)\n",
        "\n",
        "\n",
        "newestDF[\"<GREEN>\"] = newestDF[\"<ISGREEN>\"].astype(int)\n",
        "\n",
        "\n",
        "\n",
        "\n",
        "# (newestDF,open=\"<OPEN>\",close='<CLOSE>',high='<HIGH>',low='<LOW>',volume='<TICKVOL>',)"
      ]
    },
    {
      "cell_type": "code",
      "execution_count": 8,
      "metadata": {},
      "outputs": [
        {
          "data": {
            "text/html": [
              "<div><div id=38d6a9a4-c374-4135-8d7f-31ce8062d5b2 style=\"display:none; background-color:#9D6CFF; color:white; width:200px; height:30px; padding-left:5px; border-radius:4px; flex-direction:row; justify-content:space-around; align-items:center;\" onmouseover=\"this.style.backgroundColor='#BA9BF8'\" onmouseout=\"this.style.backgroundColor='#9D6CFF'\" onclick=\"window.commands?.execute('create-mitosheet-from-dataframe-output');\">See Full Dataframe in Mito</div> <script> if (window.commands?.hasCommand('create-mitosheet-from-dataframe-output')) document.getElementById('38d6a9a4-c374-4135-8d7f-31ce8062d5b2').style.display = 'flex' </script> <table border=\"1\" class=\"dataframe\">\n",
              "  <thead>\n",
              "    <tr style=\"text-align: right;\">\n",
              "      <th></th>\n",
              "      <th>&lt;DATE&gt;</th>\n",
              "      <th>&lt;TIME&gt;</th>\n",
              "      <th>&lt;OPEN&gt;</th>\n",
              "      <th>&lt;HIGH&gt;</th>\n",
              "      <th>&lt;LOW&gt;</th>\n",
              "      <th>&lt;CLOSE&gt;</th>\n",
              "      <th>&lt;TICKVOL&gt;</th>\n",
              "      <th>&lt;SPREAD&gt;</th>\n",
              "      <th>&lt;ISGREEN&gt;</th>\n",
              "      <th>&lt;SIZE&gt;</th>\n",
              "      <th>...</th>\n",
              "      <th>&lt;EMA200&gt;</th>\n",
              "      <th>&lt;UPPER&gt;</th>\n",
              "      <th>&lt;LOWER&gt;</th>\n",
              "      <th>&lt;RSI&gt;</th>\n",
              "      <th>&lt;CCI&gt;</th>\n",
              "      <th>&lt;KELTNER_H&gt;</th>\n",
              "      <th>&lt;KELTNER_L&gt;</th>\n",
              "      <th>&lt;KELTNER_M&gt;</th>\n",
              "      <th>&lt;ATR_24&gt;</th>\n",
              "      <th>&lt;GREEN&gt;</th>\n",
              "    </tr>\n",
              "  </thead>\n",
              "  <tbody>\n",
              "    <tr>\n",
              "      <th>0</th>\n",
              "      <td>2021.02.01</td>\n",
              "      <td>00:00:00</td>\n",
              "      <td>0.00</td>\n",
              "      <td>0.00</td>\n",
              "      <td>0.00</td>\n",
              "      <td>0.00</td>\n",
              "      <td>0.0</td>\n",
              "      <td>0.0</td>\n",
              "      <td>0</td>\n",
              "      <td>0.00</td>\n",
              "      <td>...</td>\n",
              "      <td>NaN</td>\n",
              "      <td>0.00</td>\n",
              "      <td>0.00</td>\n",
              "      <td>NaN</td>\n",
              "      <td>NaN</td>\n",
              "      <td>0.000000</td>\n",
              "      <td>0.000000</td>\n",
              "      <td>NaN</td>\n",
              "      <td>0.000000</td>\n",
              "      <td>0</td>\n",
              "    </tr>\n",
              "    <tr>\n",
              "      <th>1</th>\n",
              "      <td>2021.02.01</td>\n",
              "      <td>00:20:00</td>\n",
              "      <td>0.00</td>\n",
              "      <td>0.00</td>\n",
              "      <td>0.00</td>\n",
              "      <td>0.00</td>\n",
              "      <td>0.0</td>\n",
              "      <td>0.0</td>\n",
              "      <td>0</td>\n",
              "      <td>0.00</td>\n",
              "      <td>...</td>\n",
              "      <td>NaN</td>\n",
              "      <td>0.00</td>\n",
              "      <td>0.00</td>\n",
              "      <td>NaN</td>\n",
              "      <td>NaN</td>\n",
              "      <td>0.000000</td>\n",
              "      <td>0.000000</td>\n",
              "      <td>NaN</td>\n",
              "      <td>0.000000</td>\n",
              "      <td>0</td>\n",
              "    </tr>\n",
              "    <tr>\n",
              "      <th>2</th>\n",
              "      <td>2021.02.01</td>\n",
              "      <td>00:40:00</td>\n",
              "      <td>0.00</td>\n",
              "      <td>0.00</td>\n",
              "      <td>0.00</td>\n",
              "      <td>0.00</td>\n",
              "      <td>0.0</td>\n",
              "      <td>0.0</td>\n",
              "      <td>0</td>\n",
              "      <td>0.00</td>\n",
              "      <td>...</td>\n",
              "      <td>NaN</td>\n",
              "      <td>0.00</td>\n",
              "      <td>0.00</td>\n",
              "      <td>NaN</td>\n",
              "      <td>NaN</td>\n",
              "      <td>0.000000</td>\n",
              "      <td>0.000000</td>\n",
              "      <td>NaN</td>\n",
              "      <td>0.000000</td>\n",
              "      <td>0</td>\n",
              "    </tr>\n",
              "    <tr>\n",
              "      <th>3</th>\n",
              "      <td>2021.02.01</td>\n",
              "      <td>01:00:00</td>\n",
              "      <td>51.98</td>\n",
              "      <td>52.07</td>\n",
              "      <td>51.58</td>\n",
              "      <td>51.70</td>\n",
              "      <td>398.0</td>\n",
              "      <td>2.0</td>\n",
              "      <td>False</td>\n",
              "      <td>-0.28</td>\n",
              "      <td>...</td>\n",
              "      <td>NaN</td>\n",
              "      <td>0.09</td>\n",
              "      <td>0.12</td>\n",
              "      <td>NaN</td>\n",
              "      <td>NaN</td>\n",
              "      <td>13.068333</td>\n",
              "      <td>12.823333</td>\n",
              "      <td>NaN</td>\n",
              "      <td>0.000000</td>\n",
              "      <td>0</td>\n",
              "    </tr>\n",
              "    <tr>\n",
              "      <th>4</th>\n",
              "      <td>2021.02.01</td>\n",
              "      <td>01:20:00</td>\n",
              "      <td>51.69</td>\n",
              "      <td>51.87</td>\n",
              "      <td>51.67</td>\n",
              "      <td>51.86</td>\n",
              "      <td>172.0</td>\n",
              "      <td>4.0</td>\n",
              "      <td>True</td>\n",
              "      <td>0.17</td>\n",
              "      <td>...</td>\n",
              "      <td>NaN</td>\n",
              "      <td>0.01</td>\n",
              "      <td>0.02</td>\n",
              "      <td>NaN</td>\n",
              "      <td>NaN</td>\n",
              "      <td>20.854667</td>\n",
              "      <td>20.578667</td>\n",
              "      <td>NaN</td>\n",
              "      <td>0.000000</td>\n",
              "      <td>1</td>\n",
              "    </tr>\n",
              "    <tr>\n",
              "      <th>...</th>\n",
              "      <td>...</td>\n",
              "      <td>...</td>\n",
              "      <td>...</td>\n",
              "      <td>...</td>\n",
              "      <td>...</td>\n",
              "      <td>...</td>\n",
              "      <td>...</td>\n",
              "      <td>...</td>\n",
              "      <td>...</td>\n",
              "      <td>...</td>\n",
              "      <td>...</td>\n",
              "      <td>...</td>\n",
              "      <td>...</td>\n",
              "      <td>...</td>\n",
              "      <td>...</td>\n",
              "      <td>...</td>\n",
              "      <td>...</td>\n",
              "      <td>...</td>\n",
              "      <td>...</td>\n",
              "      <td>...</td>\n",
              "      <td>...</td>\n",
              "    </tr>\n",
              "    <tr>\n",
              "      <th>37075</th>\n",
              "      <td>2023.01.27</td>\n",
              "      <td>22:20:00</td>\n",
              "      <td>79.66</td>\n",
              "      <td>79.68</td>\n",
              "      <td>79.53</td>\n",
              "      <td>79.55</td>\n",
              "      <td>239.0</td>\n",
              "      <td>1.0</td>\n",
              "      <td>False</td>\n",
              "      <td>-0.11</td>\n",
              "      <td>...</td>\n",
              "      <td>78.585988</td>\n",
              "      <td>0.02</td>\n",
              "      <td>0.02</td>\n",
              "      <td>0.398503</td>\n",
              "      <td>-50.904598</td>\n",
              "      <td>80.901167</td>\n",
              "      <td>79.846167</td>\n",
              "      <td>80.373667</td>\n",
              "      <td>0.004485</td>\n",
              "      <td>0</td>\n",
              "    </tr>\n",
              "    <tr>\n",
              "      <th>37076</th>\n",
              "      <td>2023.01.27</td>\n",
              "      <td>22:40:00</td>\n",
              "      <td>79.54</td>\n",
              "      <td>79.59</td>\n",
              "      <td>79.45</td>\n",
              "      <td>79.53</td>\n",
              "      <td>263.0</td>\n",
              "      <td>1.0</td>\n",
              "      <td>False</td>\n",
              "      <td>-0.01</td>\n",
              "      <td>...</td>\n",
              "      <td>78.595381</td>\n",
              "      <td>0.05</td>\n",
              "      <td>0.08</td>\n",
              "      <td>0.396509</td>\n",
              "      <td>-65.685302</td>\n",
              "      <td>80.734833</td>\n",
              "      <td>79.737833</td>\n",
              "      <td>80.236333</td>\n",
              "      <td>0.004228</td>\n",
              "      <td>0</td>\n",
              "    </tr>\n",
              "    <tr>\n",
              "      <th>37077</th>\n",
              "      <td>2023.01.27</td>\n",
              "      <td>23:00:00</td>\n",
              "      <td>79.51</td>\n",
              "      <td>79.57</td>\n",
              "      <td>79.48</td>\n",
              "      <td>79.52</td>\n",
              "      <td>114.0</td>\n",
              "      <td>3.0</td>\n",
              "      <td>True</td>\n",
              "      <td>0.01</td>\n",
              "      <td>...</td>\n",
              "      <td>78.604581</td>\n",
              "      <td>0.05</td>\n",
              "      <td>0.03</td>\n",
              "      <td>0.395450</td>\n",
              "      <td>-67.236332</td>\n",
              "      <td>80.580833</td>\n",
              "      <td>79.640833</td>\n",
              "      <td>80.110833</td>\n",
              "      <td>0.003950</td>\n",
              "      <td>1</td>\n",
              "    </tr>\n",
              "    <tr>\n",
              "      <th>37078</th>\n",
              "      <td>2023.01.27</td>\n",
              "      <td>23:20:00</td>\n",
              "      <td>79.53</td>\n",
              "      <td>79.56</td>\n",
              "      <td>79.48</td>\n",
              "      <td>79.50</td>\n",
              "      <td>61.0</td>\n",
              "      <td>3.0</td>\n",
              "      <td>False</td>\n",
              "      <td>-0.03</td>\n",
              "      <td>...</td>\n",
              "      <td>78.613491</td>\n",
              "      <td>0.03</td>\n",
              "      <td>0.02</td>\n",
              "      <td>0.393198</td>\n",
              "      <td>-78.748825</td>\n",
              "      <td>80.452000</td>\n",
              "      <td>79.546000</td>\n",
              "      <td>79.999000</td>\n",
              "      <td>0.003688</td>\n",
              "      <td>0</td>\n",
              "    </tr>\n",
              "    <tr>\n",
              "      <th>37079</th>\n",
              "      <td>2023.01.27</td>\n",
              "      <td>23:40:00</td>\n",
              "      <td>79.51</td>\n",
              "      <td>79.53</td>\n",
              "      <td>79.48</td>\n",
              "      <td>79.53</td>\n",
              "      <td>14.0</td>\n",
              "      <td>3.0</td>\n",
              "      <td>True</td>\n",
              "      <td>0.02</td>\n",
              "      <td>...</td>\n",
              "      <td>78.622610</td>\n",
              "      <td>0.00</td>\n",
              "      <td>0.03</td>\n",
              "      <td>0.398700</td>\n",
              "      <td>-85.555556</td>\n",
              "      <td>80.295667</td>\n",
              "      <td>79.454667</td>\n",
              "      <td>79.875167</td>\n",
              "      <td>0.003422</td>\n",
              "      <td>1</td>\n",
              "    </tr>\n",
              "  </tbody>\n",
              "</table></div>"
            ],
            "text/plain": [
              "           <DATE>    <TIME>  <OPEN>  <HIGH>  <LOW>  <CLOSE>  <TICKVOL>  \\\n",
              "0      2021.02.01  00:00:00    0.00    0.00   0.00     0.00        0.0   \n",
              "1      2021.02.01  00:20:00    0.00    0.00   0.00     0.00        0.0   \n",
              "2      2021.02.01  00:40:00    0.00    0.00   0.00     0.00        0.0   \n",
              "3      2021.02.01  01:00:00   51.98   52.07  51.58    51.70      398.0   \n",
              "4      2021.02.01  01:20:00   51.69   51.87  51.67    51.86      172.0   \n",
              "...           ...       ...     ...     ...    ...      ...        ...   \n",
              "37075  2023.01.27  22:20:00   79.66   79.68  79.53    79.55      239.0   \n",
              "37076  2023.01.27  22:40:00   79.54   79.59  79.45    79.53      263.0   \n",
              "37077  2023.01.27  23:00:00   79.51   79.57  79.48    79.52      114.0   \n",
              "37078  2023.01.27  23:20:00   79.53   79.56  79.48    79.50       61.0   \n",
              "37079  2023.01.27  23:40:00   79.51   79.53  79.48    79.53       14.0   \n",
              "\n",
              "       <SPREAD> <ISGREEN>  <SIZE>  ...   <EMA200>  <UPPER>  <LOWER>     <RSI>  \\\n",
              "0           0.0         0    0.00  ...        NaN     0.00     0.00       NaN   \n",
              "1           0.0         0    0.00  ...        NaN     0.00     0.00       NaN   \n",
              "2           0.0         0    0.00  ...        NaN     0.00     0.00       NaN   \n",
              "3           2.0     False   -0.28  ...        NaN     0.09     0.12       NaN   \n",
              "4           4.0      True    0.17  ...        NaN     0.01     0.02       NaN   \n",
              "...         ...       ...     ...  ...        ...      ...      ...       ...   \n",
              "37075       1.0     False   -0.11  ...  78.585988     0.02     0.02  0.398503   \n",
              "37076       1.0     False   -0.01  ...  78.595381     0.05     0.08  0.396509   \n",
              "37077       3.0      True    0.01  ...  78.604581     0.05     0.03  0.395450   \n",
              "37078       3.0     False   -0.03  ...  78.613491     0.03     0.02  0.393198   \n",
              "37079       3.0      True    0.02  ...  78.622610     0.00     0.03  0.398700   \n",
              "\n",
              "           <CCI>  <KELTNER_H>  <KELTNER_L>  <KELTNER_M>  <ATR_24>  <GREEN>  \n",
              "0            NaN     0.000000     0.000000          NaN  0.000000        0  \n",
              "1            NaN     0.000000     0.000000          NaN  0.000000        0  \n",
              "2            NaN     0.000000     0.000000          NaN  0.000000        0  \n",
              "3            NaN    13.068333    12.823333          NaN  0.000000        0  \n",
              "4            NaN    20.854667    20.578667          NaN  0.000000        1  \n",
              "...          ...          ...          ...          ...       ...      ...  \n",
              "37075 -50.904598    80.901167    79.846167    80.373667  0.004485        0  \n",
              "37076 -65.685302    80.734833    79.737833    80.236333  0.004228        0  \n",
              "37077 -67.236332    80.580833    79.640833    80.110833  0.003950        1  \n",
              "37078 -78.748825    80.452000    79.546000    79.999000  0.003688        0  \n",
              "37079 -85.555556    80.295667    79.454667    79.875167  0.003422        1  \n",
              "\n",
              "[37080 rows x 23 columns]"
            ]
          },
          "execution_count": 8,
          "metadata": {},
          "output_type": "execute_result"
        }
      ],
      "source": [
        "newestDF"
      ]
    },
    {
      "cell_type": "code",
      "execution_count": null,
      "metadata": {},
      "outputs": [],
      "source": []
    },
    {
      "cell_type": "code",
      "execution_count": 9,
      "metadata": {},
      "outputs": [],
      "source": [
        "list = []\n",
        "for i in range(len(newestDF)):\n",
        "    \n",
        "    date = newestDF.iloc[i][\"<DATE>\"]\n",
        "    time = newestDF.iloc[i][\"<TIME>\"]\n",
        "    isGreen = newestDF.iloc[i][\"<ISGREEN>\"]\n",
        "    size = newestDF.iloc[i][\"<SIZE>\"]\n",
        "    low = newestDF.iloc[i][\"<LOW>\"]\n",
        "    high = newestDF.iloc[i][\"<HIGH>\"]\n",
        "    volatility = newestDF.iloc[i][\"<VOLATILITY>\"]\n",
        "    atr = newestDF.iloc[i]['<ATR_24>']\n",
        "    \n",
        "    list.append([date, time, isGreen, size,low,high, volatility,atr])\n"
      ]
    },
    {
      "cell_type": "code",
      "execution_count": 10,
      "metadata": {},
      "outputs": [],
      "source": [
        "days = []\n",
        "daysDfs = []\n",
        "for i in range(uniqueDaysCount): \n",
        "    daysDfs.append(pd.DataFrame(list[i*CandlesInDay: CandlesInDay*(i+1)],columns=[\n",
        "        'date',\n",
        "'time',\n",
        "'isGreen',\n",
        "'size',\n",
        "'low',\n",
        "'high',\n",
        "'volatility',\n",
        "'atr',\n",
        "    ]))\n",
        "    days.append(list[i*CandlesInDay: CandlesInDay*(i+1)])\n"
      ]
    },
    {
      "cell_type": "code",
      "execution_count": 25,
      "metadata": {},
      "outputs": [],
      "source": [
        "\n",
        "maxList=np.zeros(CandlesInDay)\n",
        "minList=np.zeros(CandlesInDay)\n",
        "volatList=np.zeros(CandlesInDay)\n",
        "\n",
        "\n",
        "for i in (daysDfs):\n",
        "\n",
        "    sth = i.loc[~((i['low'] == 0))]\n",
        "    \n",
        "    \n",
        "    minList[(sth['size'].idxmin())]+=1\n",
        "    maxList[(sth['size'].idxmax())]+=1\n",
        "    volatList[(sth['volatility'].idxmax())]+=1\n",
        "\n"
      ]
    },
    {
      "cell_type": "code",
      "execution_count": 26,
      "metadata": {},
      "outputs": [
        {
          "data": {
            "text/html": [
              "<div><div id=396cba12-fda2-4f56-ad3e-12fa7677d918 style=\"display:none; background-color:#9D6CFF; color:white; width:200px; height:30px; padding-left:5px; border-radius:4px; flex-direction:row; justify-content:space-around; align-items:center;\" onmouseover=\"this.style.backgroundColor='#BA9BF8'\" onmouseout=\"this.style.backgroundColor='#9D6CFF'\" onclick=\"window.commands?.execute('create-mitosheet-from-dataframe-output');\">See Full Dataframe in Mito</div> <script> if (window.commands?.hasCommand('create-mitosheet-from-dataframe-output')) document.getElementById('396cba12-fda2-4f56-ad3e-12fa7677d918').style.display = 'flex' </script> <table border=\"1\" class=\"dataframe\">\n",
              "  <thead>\n",
              "    <tr style=\"text-align: right;\">\n",
              "      <th></th>\n",
              "      <th>date</th>\n",
              "      <th>time</th>\n",
              "      <th>isGreen</th>\n",
              "      <th>size</th>\n",
              "      <th>low</th>\n",
              "      <th>high</th>\n",
              "      <th>volatility</th>\n",
              "      <th>atr</th>\n",
              "    </tr>\n",
              "  </thead>\n",
              "  <tbody>\n",
              "    <tr>\n",
              "      <th>3</th>\n",
              "      <td>2023.01.27</td>\n",
              "      <td>01:00:00</td>\n",
              "      <td>True</td>\n",
              "      <td>0.11</td>\n",
              "      <td>81.15</td>\n",
              "      <td>81.28</td>\n",
              "      <td>0.13</td>\n",
              "      <td>0.122117</td>\n",
              "    </tr>\n",
              "    <tr>\n",
              "      <th>4</th>\n",
              "      <td>2023.01.27</td>\n",
              "      <td>01:20:00</td>\n",
              "      <td>False</td>\n",
              "      <td>-0.03</td>\n",
              "      <td>81.18</td>\n",
              "      <td>81.26</td>\n",
              "      <td>0.08</td>\n",
              "      <td>0.112007</td>\n",
              "    </tr>\n",
              "    <tr>\n",
              "      <th>5</th>\n",
              "      <td>2023.01.27</td>\n",
              "      <td>01:40:00</td>\n",
              "      <td>False</td>\n",
              "      <td>-0.02</td>\n",
              "      <td>81.16</td>\n",
              "      <td>81.24</td>\n",
              "      <td>0.08</td>\n",
              "      <td>0.102740</td>\n",
              "    </tr>\n",
              "    <tr>\n",
              "      <th>6</th>\n",
              "      <td>2023.01.27</td>\n",
              "      <td>02:00:00</td>\n",
              "      <td>True</td>\n",
              "      <td>0.03</td>\n",
              "      <td>81.15</td>\n",
              "      <td>81.26</td>\n",
              "      <td>0.11</td>\n",
              "      <td>0.094270</td>\n",
              "    </tr>\n",
              "    <tr>\n",
              "      <th>7</th>\n",
              "      <td>2023.01.27</td>\n",
              "      <td>02:20:00</td>\n",
              "      <td>True</td>\n",
              "      <td>0.01</td>\n",
              "      <td>81.23</td>\n",
              "      <td>81.29</td>\n",
              "      <td>0.06</td>\n",
              "      <td>0.086464</td>\n",
              "    </tr>\n",
              "    <tr>\n",
              "      <th>...</th>\n",
              "      <td>...</td>\n",
              "      <td>...</td>\n",
              "      <td>...</td>\n",
              "      <td>...</td>\n",
              "      <td>...</td>\n",
              "      <td>...</td>\n",
              "      <td>...</td>\n",
              "      <td>...</td>\n",
              "    </tr>\n",
              "    <tr>\n",
              "      <th>67</th>\n",
              "      <td>2023.01.27</td>\n",
              "      <td>22:20:00</td>\n",
              "      <td>False</td>\n",
              "      <td>-0.11</td>\n",
              "      <td>79.53</td>\n",
              "      <td>79.68</td>\n",
              "      <td>0.15</td>\n",
              "      <td>0.004485</td>\n",
              "    </tr>\n",
              "    <tr>\n",
              "      <th>68</th>\n",
              "      <td>2023.01.27</td>\n",
              "      <td>22:40:00</td>\n",
              "      <td>False</td>\n",
              "      <td>-0.01</td>\n",
              "      <td>79.45</td>\n",
              "      <td>79.59</td>\n",
              "      <td>0.14</td>\n",
              "      <td>0.004228</td>\n",
              "    </tr>\n",
              "    <tr>\n",
              "      <th>69</th>\n",
              "      <td>2023.01.27</td>\n",
              "      <td>23:00:00</td>\n",
              "      <td>True</td>\n",
              "      <td>0.01</td>\n",
              "      <td>79.48</td>\n",
              "      <td>79.57</td>\n",
              "      <td>0.09</td>\n",
              "      <td>0.003950</td>\n",
              "    </tr>\n",
              "    <tr>\n",
              "      <th>70</th>\n",
              "      <td>2023.01.27</td>\n",
              "      <td>23:20:00</td>\n",
              "      <td>False</td>\n",
              "      <td>-0.03</td>\n",
              "      <td>79.48</td>\n",
              "      <td>79.56</td>\n",
              "      <td>0.08</td>\n",
              "      <td>0.003688</td>\n",
              "    </tr>\n",
              "    <tr>\n",
              "      <th>71</th>\n",
              "      <td>2023.01.27</td>\n",
              "      <td>23:40:00</td>\n",
              "      <td>True</td>\n",
              "      <td>0.02</td>\n",
              "      <td>79.48</td>\n",
              "      <td>79.53</td>\n",
              "      <td>0.05</td>\n",
              "      <td>0.003422</td>\n",
              "    </tr>\n",
              "  </tbody>\n",
              "</table></div>"
            ],
            "text/plain": [
              "          date      time isGreen  size    low   high  volatility       atr\n",
              "3   2023.01.27  01:00:00    True  0.11  81.15  81.28        0.13  0.122117\n",
              "4   2023.01.27  01:20:00   False -0.03  81.18  81.26        0.08  0.112007\n",
              "5   2023.01.27  01:40:00   False -0.02  81.16  81.24        0.08  0.102740\n",
              "6   2023.01.27  02:00:00    True  0.03  81.15  81.26        0.11  0.094270\n",
              "7   2023.01.27  02:20:00    True  0.01  81.23  81.29        0.06  0.086464\n",
              "..         ...       ...     ...   ...    ...    ...         ...       ...\n",
              "67  2023.01.27  22:20:00   False -0.11  79.53  79.68        0.15  0.004485\n",
              "68  2023.01.27  22:40:00   False -0.01  79.45  79.59        0.14  0.004228\n",
              "69  2023.01.27  23:00:00    True  0.01  79.48  79.57        0.09  0.003950\n",
              "70  2023.01.27  23:20:00   False -0.03  79.48  79.56        0.08  0.003688\n",
              "71  2023.01.27  23:40:00    True  0.02  79.48  79.53        0.05  0.003422\n",
              "\n",
              "[69 rows x 8 columns]"
            ]
          },
          "execution_count": 26,
          "metadata": {},
          "output_type": "execute_result"
        }
      ],
      "source": [
        "sth.head(300)"
      ]
    },
    {
      "cell_type": "code",
      "execution_count": 33,
      "metadata": {},
      "outputs": [
        {
          "data": {
            "text/plain": [
              "50.0"
            ]
          },
          "execution_count": 33,
          "metadata": {},
          "output_type": "execute_result"
        }
      ],
      "source": [
        "\n",
        "\n"
      ]
    },
    {
      "cell_type": "code",
      "execution_count": 34,
      "metadata": {},
      "outputs": [
        {
          "data": {
            "text/plain": [
              "<BarContainer object of 70 artists>"
            ]
          },
          "execution_count": 34,
          "metadata": {},
          "output_type": "execute_result"
        },
        {
          "data": {
            "image/png": "[encoded data removed]",
            "text/plain": [
              "<Figure size 720x576 with 1 Axes>"
            ]
          },
          "metadata": {},
          "output_type": "display_data"
        }
      ],
      "source": [
        "plt.figure(figsize=(10,8))\n",
        "\n",
        "plt.bar(x=range(CandlesInDay)[1:-1],height=volatList[1:-1])\n"
      ]
    },
    {
      "cell_type": "code",
      "execution_count": 35,
      "metadata": {},
      "outputs": [
        {
          "data": {
            "text/plain": [
              "<BarContainer object of 70 artists>"
            ]
          },
          "execution_count": 35,
          "metadata": {},
          "output_type": "execute_result"
        },
        {
          "data": {
            "image/png": "[encoded data removed]",
            "text/plain": [
              "<Figure size 432x288 with 1 Axes>"
            ]
          },
          "metadata": {},
          "output_type": "display_data"
        }
      ],
      "source": [
        "plt.bar(x=range(CandlesInDay)[1:-1],height=minList[1:-1])\n",
        "\n"
      ]
    },
    {
      "cell_type": "code",
      "execution_count": 30,
      "metadata": {},
      "outputs": [
        {
          "data": {
            "text/plain": [
              "<BarContainer object of 70 artists>"
            ]
          },
          "execution_count": 30,
          "metadata": {},
          "output_type": "execute_result"
        },
        {
          "data": {
            "image/png": "[encoded data removed]",
            "text/plain": [
              "<Figure size 432x288 with 1 Axes>"
            ]
          },
          "metadata": {},
          "output_type": "display_data"
        }
      ],
      "source": [
        "plt.bar(x=range(CandlesInDay)[1:-1],height=maxList[1:-1])"
      ]
    },
    {
      "cell_type": "code",
      "execution_count": 31,
      "metadata": {},
      "outputs": [
        {
          "data": {
            "text/plain": [
              "<BarContainer object of 70 artists>"
            ]
          },
          "execution_count": 31,
          "metadata": {},
          "output_type": "execute_result"
        },
        {
          "data": {
            "image/png": "[encoded data removed]",
            "text/plain": [
              "<Figure size 432x288 with 1 Axes>"
            ]
          },
          "metadata": {},
          "output_type": "display_data"
        }
      ],
      "source": [
        "plt.bar(x=range(CandlesInDay)[1:-1],height=minList[1:-1])"
      ]
    },
    {
      "cell_type": "code",
      "execution_count": 18,
      "metadata": {},
      "outputs": [],
      "source": [
        "avgMultiplier = float(input('Only calculate candles bigger than X times the average (def=1) :' )or '1')\n",
        "\n",
        "def eachDayMatrix(day):\n",
        "    \n",
        "    avgCandleBodySize=0\n",
        "    avgCandleVolatility=0\n",
        "\n",
        "    for i in range(len(day)):\n",
        "        avgCandleBodySize+=abs(day[i][3])\n",
        "        avgCandleVolatility+=abs(day[i][6])\n",
        "    \n",
        "    avgCandleBodySize/=len(day)\n",
        "    avgCandleVolatility/=len(day)\n",
        "\n",
        "    ansMatrix = np.zeros((CandlesInDay,CandlesInDay),dtype=int)\n",
        "    countMatrix = np.zeros((CandlesInDay,CandlesInDay),dtype=int)\n",
        "    \n",
        "    for i in range(len(day)) : \n",
        "        for j in range (i,len(day)):\n",
        "            # if abs(day[i][3])> avgCandleBodySize*avgMultiplier and abs(day[j][3])>0 : #SIZE\n",
        "            if abs(day[i][6])> avgCandleVolatility*avgMultiplier and abs(day[j][6])>0 : #VOLATILITY\n",
        "            # if abs(day[i][3]) > (day[i][5]*avgMultiplier) and abs(day[j][4])>0 : #ATR\n",
        "                countMatrix[i][j] += 1\n",
        "                if not(day[i][2] ^ day[j][2]):\n",
        "                    ansMatrix[i][j]=1 \n",
        "                else:\n",
        "                    ansMatrix[i][j]=-1\n",
        "                    \n",
        "                continue\n",
        "            ansMatrix[i][j]=0\n",
        "            \n",
        "\n",
        "    return [ansMatrix,countMatrix]\n",
        "\n",
        "ansVector = []\n",
        "countVector = []\n",
        "for i in range(len(days)):\n",
        "    [ansVectorDay,countVectorDay] = eachDayMatrix(days[i])\n",
        "    countVector.append(countVectorDay)\n",
        "    ansVector.append(ansVectorDay)\n",
        "\n",
        "final = np.sum(ansVector, axis=0)\n",
        "countFinal = np.sum(countVector, axis=0)\n",
        "# final-=len(days)//2\n",
        "# plt.imshow(final)\n",
        "\n"
      ]
    },
    {
      "cell_type": "code",
      "execution_count": 19,
      "metadata": {},
      "outputs": [
        {
          "data": {
            "text/plain": [
              "<AxesSubplot:>"
            ]
          },
          "execution_count": 19,
          "metadata": {},
          "output_type": "execute_result"
        },
        {
          "data": {
            "image/png": "[encoded data removed]",
            "text/plain": [
              "<Figure size 1440x1152 with 2 Axes>"
            ]
          },
          "metadata": {
            "needs_background": "light"
          },
          "output_type": "display_data"
        }
      ],
      "source": [
        "plt.figure(figsize=(20,16))\n",
        "sns.set(font_scale=2)\n",
        "sns.heatmap(final,vmax=30,vmin=-30,annot=False)\n",
        "\n"
      ]
    },
    {
      "cell_type": "code",
      "execution_count": 20,
      "metadata": {},
      "outputs": [
        {
          "data": {
            "text/plain": [
              "<AxesSubplot:>"
            ]
          },
          "execution_count": 20,
          "metadata": {},
          "output_type": "execute_result"
        },
        {
          "data": {
            "image/png": "[encoded data removed]",
            "text/plain": [
              "<Figure size 720x576 with 2 Axes>"
            ]
          },
          "metadata": {},
          "output_type": "display_data"
        }
      ],
      "source": [
        "plt.figure(figsize=(10,8))\n",
        "\n",
        "sns.heatmap(countFinal,annot=False,)\n"
      ]
    },
    {
      "cell_type": "code",
      "execution_count": 21,
      "metadata": {},
      "outputs": [
        {
          "name": "stdout",
          "output_type": "stream",
          "text": [
            "515 Days ;  Averages Multiplier : 1.0\n",
            "3-8 01:00:00-02:40:00 67.58% -- 35.33 Close\n",
            "10-11 03:20:00-03:40:00 65.09% -- 20.58 Consecutive\n",
            "14-17 04:40:00-05:40:00 83.33% -- 22.13 Close\n",
            "29-33 09:40:00-11:00:00 65.33% -- 31.65 Close\n",
            "38-41 12:40:00-13:40:00 66.98% -- 41.16 Close\n"
          ]
        }
      ],
      "source": [
        "# float(input('Bias:')) \n",
        "biasPercentage = 65\n",
        "\n",
        "\n",
        "\n",
        "consecutiveAndClose = 1\n",
        "consecutiveOnly = 0\n",
        "\n",
        "percentTimesCountedAtLeastMoreThan = 20\n",
        "\n",
        "print(uniqueDaysCount,'Days ; ','Averages Multiplier :',avgMultiplier)\n",
        "for i in range(len(final)):\n",
        "    for j in range (i,len(final)):\n",
        "        percentageHigherThanAvg = int(countFinal[i][j]/uniqueDaysCount *10000) /100\n",
        "        if( percentageHigherThanAvg < percentTimesCountedAtLeastMoreThan ):\n",
        "            continue\n",
        "        prob = int(abs(final[i][j]) / countFinal[i][j] *10000)/100 + 50.00\n",
        "        if (biasPercentage<prob<100)and (not i==j):\n",
        "            if(j-i==1):\n",
        "\n",
        "                print(f\"{i}-{j}\",\n",
        "                f\"{candleToTime(i)}-{candleToTime(j)}\",\n",
        "                f\"{prob}% ++\",\n",
        "                percentageHigherThanAvg,\n",
        "                'Consecutive') if final[i][j]>=0 else print(f\"{i}-{j}\",\n",
        "                f\"{candleToTime(i)}-{candleToTime(j)}\",\n",
        "                f\"{prob}% --\",\n",
        "                percentageHigherThanAvg,\n",
        "                'Consecutive')\n",
        "                continue\n",
        "\n",
        "            if(j-i <= 120/timeFrame) and (not consecutiveOnly):\n",
        "\n",
        "                print(f\"{i}-{j}\",\n",
        "                f\"{candleToTime(i)}-{candleToTime(j)}\",\n",
        "                f\"{prob}% ++\",\n",
        "                percentageHigherThanAvg,\n",
        "                'Close') if final[i][j]>=0 else print(f\"{i}-{j}\",\n",
        "                f\"{candleToTime(i)}-{candleToTime(j)}\",\n",
        "                f\"{prob}% --\",\n",
        "                percentageHigherThanAvg,\n",
        "                'Close')\n",
        "                continue\n",
        "\n",
        "            if not(consecutiveAndClose or consecutiveOnly): \n",
        "                \n",
        "                print(f\"{i}-{j}\",\n",
        "                f\"{candleToTime(i)}-{candleToTime(j)}\",\n",
        "                f\"{prob}% ++\",\n",
        "                percentageHigherThanAvg) if final[i][j]>=0 else print(f\"{i}-{j}\",\n",
        "                f\"{candleToTime(i)}-{candleToTime(j)}\",\n",
        "                f\"{prob}% --\",\n",
        "                percentageHigherThanAvg)\n",
        "\n",
        "\n"
      ]
    },
    {
      "cell_type": "code",
      "execution_count": 22,
      "metadata": {},
      "outputs": [
        {
          "data": {
            "text/plain": [
              "515"
            ]
          },
          "execution_count": 22,
          "metadata": {},
          "output_type": "execute_result"
        }
      ],
      "source": [
        "uniqueDaysCount"
      ]
    },
    {
      "cell_type": "code",
      "execution_count": null,
      "metadata": {},
      "outputs": [],
      "source": []
    },
    {
      "cell_type": "code",
      "execution_count": null,
      "metadata": {},
      "outputs": [],
      "source": []
    }
  ],
  "metadata": {
    "colab": {
      "name": "ML-Course.ipynb",
      "provenance": []
    },
    "kernelspec": {
      "display_name": "fxprob",
      "language": "python",
      "name": "python3"
    },
    "language_info": {
      "codemirror_mode": {
        "name": "ipython",
        "version": 3
      },
      "file_extension": ".py",
      "mimetype": "text/x-python",
      "name": "python",
      "nbconvert_exporter": "python",
      "pygments_lexer": "ipython3",
      "version": "3.9.12"
    },
    "vscode": {
      "interpreter": {
        "hash": "2311a6636306da7f69f458624af484267234b5ec29649b24a87fc0c416d364bf"
      }
    }
  },
  "nbformat": 4,
  "nbformat_minor": 0
}
