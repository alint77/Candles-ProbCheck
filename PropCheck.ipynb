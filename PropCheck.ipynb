{
  "cells": [
    {
      "cell_type": "markdown",
      "metadata": {
        "id": "nLrC77wJSM0M"
      },
      "source": [
        "# Python Basics\n"
      ]
    },
    {
      "cell_type": "code",
      "execution_count": 140,
      "metadata": {
        "id": "-WYlCdY0SIvI"
      },
      "outputs": [],
      "source": [
        "import pandas as pd\n",
        "import numpy as np\n",
        "import matplotlib.pyplot as plt\n",
        "import seaborn as sns\n",
        "import yfinance as yf\n",
        "\n",
        "\n",
        "DJ = pd.read_csv(\"csv/60M/XAUUSD_H1_202201110100_202205022300.csv\",delim_whitespace=True)\n",
        "timeFrame = int(input('TimeFrame:'))\n",
        "CandlesInDay = 24 * (60//timeFrame)\n",
        "DJ.insert(7, '<CANDLESIZE>',value=0)\n",
        "DJ.insert(8, '<SIZE>',value=0)\n",
        "DJ.drop(['<HIGH>','<LOW>','<TICKVOL>','<VOL>','<SPREAD>'],axis=1,inplace=True)\n",
        "DJ['<CANDLESIZE>'] =  DJ['<CLOSE>'] > DJ['<OPEN>']\n",
        "DJ['<SIZE>'] =  DJ['<CLOSE>'] - DJ['<OPEN>']\n",
        "\n"
      ]
    },
    {
      "cell_type": "code",
      "execution_count": 141,
      "metadata": {},
      "outputs": [],
      "source": [
        "def candleToTime(j):\n",
        "    k=j//minuteMult\n",
        "    sth=timeFrame*(j%minuteMult)\n",
        "    return '{:02d}:{:02d}:00'.format(k,sth)\n",
        "\n",
        "uniqueDays = DJ.drop_duplicates(subset='<DATE>')\n",
        "uniqueDays = pd.DataFrame(uniqueDays)\n",
        "\n",
        "uniqueDaysCount=uniqueDays.shape[0]\n",
        "\n",
        "\n",
        "newDF = pd.DataFrame(columns=['<DATE>','<TIME>','<OPEN>','<CLOSE>','<CANDLESIZE>','<SIZE>'])\n",
        "\n",
        "minuteMult = CandlesInDay//24\n",
        "\n",
        "\n",
        "\n",
        "for i in range(uniqueDays.shape[0]):\n",
        "    for j in range(CandlesInDay):\n",
        "        \n",
        "        newDF.loc[(i*CandlesInDay)+j]=[uniqueDays.iloc[i][0],candleToTime(j),0,0,0,0]\n"
      ]
    },
    {
      "cell_type": "code",
      "execution_count": 142,
      "metadata": {},
      "outputs": [],
      "source": [
        "newestDF = newDF.merge(DJ,on=['<DATE>','<TIME>'],how='left')\n",
        "\n",
        "newestDF.drop(columns=['<OPEN>_x','<CLOSE>_x','<SIZE>_x','<CANDLESIZE>_x','<CLOSE>_y','<OPEN>_y'],inplace=True)\n",
        "newestDF['<CANDLESIZE>_y'] = newestDF['<CANDLESIZE>_y'].fillna(0)\n",
        "newestDF['<SIZE>_y'] = newestDF['<SIZE>_y'].fillna(0)\n",
        "\n"
      ]
    },
    {
      "cell_type": "code",
      "execution_count": 143,
      "metadata": {},
      "outputs": [],
      "source": [
        "list = []\n",
        "for i in range(len(newestDF)):\n",
        "    date = newestDF.iloc[i][0]\n",
        "    time = newestDF.iloc[i][1]\n",
        "    GreenOrRed = newestDF.iloc[i][2]\n",
        "    size = newestDF.iloc[i][3]\n",
        "    list.append([date, time, GreenOrRed,size])\n"
      ]
    },
    {
      "cell_type": "code",
      "execution_count": 144,
      "metadata": {},
      "outputs": [],
      "source": [
        "days = []\n",
        "for i in range(uniqueDaysCount): \n",
        "    days.append(list[i*CandlesInDay: CandlesInDay*(i+1)])\n"
      ]
    },
    {
      "cell_type": "code",
      "execution_count": 156,
      "metadata": {},
      "outputs": [
        {
          "data": {
            "text/plain": [
              "<AxesSubplot:>"
            ]
          },
          "execution_count": 156,
          "metadata": {},
          "output_type": "execute_result"
        },
        {
          "data": {
            "image/png": "[encoded data removed]",
            "text/plain": [
              "<Figure size 432x288 with 2 Axes>"
            ]
          },
          "metadata": {
            "needs_background": "light"
          },
          "output_type": "display_data"
        }
      ],
      "source": [
        "\n",
        "\n",
        "def eachDayMat(day):\n",
        "    avg=0\n",
        "    for i in range(len(day)):\n",
        "        avg+=abs(day[i][3])\n",
        "    avg/=len(day)\n",
        "    ansMatrix = np.zeros((CandlesInDay,CandlesInDay),dtype=int)\n",
        "    for i in range(len(day)) : \n",
        "        for j in range (i,len(day)):\n",
        "            if abs(day[i][3])> avg/1.5 and abs(day[j][3])> avg/1.5:\n",
        "                ansMatrix[i][j]=1 if not(day[i][2] ^ day[j][2]) else -1\n",
        "                continue\n",
        "            ansMatrix[i][j]=0\n",
        "            \n",
        "\n",
        "    return ansMatrix\n",
        "\n",
        "ansVector = []\n",
        "for i in range(len(days)):\n",
        "    \n",
        "    ansVector.append(eachDayMat(days[i]))\n",
        "\n",
        "final = np.sum(ansVector, axis=0)\n",
        "# final-=len(days)//2\n",
        "sns.heatmap(final)\n",
        "# plt.imshow(final)"
      ]
    },
    {
      "cell_type": "code",
      "execution_count": 157,
      "metadata": {},
      "outputs": [
        {
          "name": "stdout",
          "output_type": "stream",
          "text": [
            "3-13 03:00:00-13:00:00 65.18% --\n",
            "6-15 06:00:00-15:00:00 66.45% ++\n",
            "9-14 09:00:00-14:00:00 66.45% --\n",
            "Consecutive: 10-11 10:00:00-11:00:00 65.18% ++\n",
            "13-20 13:00:00-20:00:00 66.45% --\n",
            "18-23 18:00:00-23:00:00 65.18% --\n"
          ]
        }
      ],
      "source": [
        "bias=.65\n",
        "consecutiveOnly = False\n",
        "# float(input('Bias:')) \n",
        "\n",
        "\n",
        "\n",
        "for i in range(len(final)):\n",
        "    for j in range (i,len(final)):\n",
        "        prob = abs(final[i][j]) / uniqueDaysCount + 0.5\n",
        "        if (bias<prob<1)and (not i==j):\n",
        "            prob100 = int(prob*10000)/100\n",
        "            if(j-i==1):\n",
        "\n",
        "                print(f\"Consecutive: {i}-{j}\",f\"{candleToTime(i)}-{candleToTime(j)}\",f\"{prob100}% ++\") if final[i][j]>=0 else print(f\"Consecutive: {i}-{j}\",f\"{candleToTime(i)}-{candleToTime(j)}\",f\"{prob100}% --\")\n",
        "                continue\n",
        "                    \n",
        "            if not(consecutiveOnly):\n",
        "                print(f\"{i}-{j}\",f\"{candleToTime(i)}-{candleToTime(j)}\",f\"{prob100}% ++\") if final[i][j]>=0 else print(f\"{i}-{j}\",f\"{candleToTime(i)}-{candleToTime(j)}\",f\"{prob100}% --\")\n",
        "\n",
        "\n",
        "\n"
      ]
    }
  ],
  "metadata": {
    "colab": {
      "name": "ML-Course.ipynb",
      "provenance": []
    },
    "kernelspec": {
      "display_name": "Python 3",
      "name": "python3"
    },
    "language_info": {
      "codemirror_mode": {
        "name": "ipython",
        "version": 3
      },
      "file_extension": ".py",
      "mimetype": "text/x-python",
      "name": "python",
      "nbconvert_exporter": "python",
      "pygments_lexer": "ipython3",
      "version": "3.10.4"
    }
  },
  "nbformat": 4,
  "nbformat_minor": 0
}
