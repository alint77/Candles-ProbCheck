{
  "cells": [
    {
      "cell_type": "markdown",
      "metadata": {
        "id": "nLrC77wJSM0M"
      },
      "source": [
        "# Python Basics\n"
      ]
    },
    {
      "cell_type": "code",
      "execution_count": 10,
      "metadata": {
        "id": "-WYlCdY0SIvI"
      },
      "outputs": [],
      "source": [
        "import pandas as pd\n",
        "import numpy as np\n",
        "import matplotlib.pyplot as plt\n",
        "import seaborn as sns\n",
        "import yfinance as yf\n",
        "\n",
        "\n",
        "DJ = pd.read_csv(\"csv/20M/XAUUSD_M20_202202140100_202204282340.csv\",delim_whitespace=True)\n",
        "timeFrame = int(input('TimeFrame:'))\n",
        "CandlesInDay = 24 * (60//timeFrame)\n",
        "DJ.insert(7, '<CANDLESIZE>',value=0)\n",
        "DJ.drop(['<HIGH>','<LOW>','<TICKVOL>','<VOL>','<SPREAD>'],axis=1,inplace=True)\n",
        "DJ['<CANDLESIZE>'] =  DJ['<CLOSE>'] > DJ['<OPEN>']\n",
        "\n",
        "\n",
        "\n",
        "\n"
      ]
    },
    {
      "cell_type": "code",
      "execution_count": 11,
      "metadata": {},
      "outputs": [],
      "source": [
        "def candleToTime(j):\n",
        "    k=j//minuteMult\n",
        "    sth=timeFrame*(j%minuteMult)\n",
        "    return '{:02d}:{:02d}:00'.format(k,sth)\n",
        "\n",
        "uniqueDays = DJ.drop_duplicates(subset='<DATE>')\n",
        "uniqueDays = pd.DataFrame(uniqueDays)\n",
        "\n",
        "uniqueDaysCount=uniqueDays.shape[0]\n",
        "\n",
        "\n",
        "newDF = pd.DataFrame(columns=['<DATE>','<TIME>','<OPEN>','<CLOSE>','<CANDLESIZE>'])\n",
        "\n",
        "minuteMult = CandlesInDay//24\n",
        "\n",
        "\n",
        "\n",
        "for i in range(uniqueDays.shape[0]):\n",
        "    for j in range(CandlesInDay):\n",
        "        \n",
        "        newDF.loc[(i*CandlesInDay)+j]=[uniqueDays.iloc[i][0],candleToTime(j),0,0,0]\n"
      ]
    },
    {
      "cell_type": "code",
      "execution_count": 12,
      "metadata": {},
      "outputs": [],
      "source": [
        "newestDF = newDF.merge(DJ,on=['<DATE>','<TIME>'],how='left')\n",
        "\n",
        "newestDF.drop(columns=['<OPEN>_x','<CLOSE>_x','<CANDLESIZE>_x','<CLOSE>_y','<OPEN>_y'],inplace=True)\n",
        "newestDF['<CANDLESIZE>_y'] = newestDF['<CANDLESIZE>_y'].fillna(0)\n",
        "\n"
      ]
    },
    {
      "cell_type": "code",
      "execution_count": 13,
      "metadata": {},
      "outputs": [],
      "source": [
        "list = []\n",
        "for i in range(len(newestDF)):\n",
        "    date = newestDF.iloc[i][0]\n",
        "    time = newestDF.iloc[i][1]\n",
        "    GreenOrRed = newestDF.iloc[i][2]\n",
        "    list.append([date, time, GreenOrRed])\n"
      ]
    },
    {
      "cell_type": "code",
      "execution_count": 14,
      "metadata": {},
      "outputs": [],
      "source": [
        "days = []\n",
        "for i in range(uniqueDaysCount): \n",
        "    days.append(list[i*CandlesInDay: CandlesInDay*(i+1)])\n"
      ]
    },
    {
      "cell_type": "code",
      "execution_count": 15,
      "metadata": {},
      "outputs": [],
      "source": [
        "\n",
        "\n",
        "def eachDayMat(day):\n",
        "    ansMatrix = np.zeros((CandlesInDay,CandlesInDay),dtype=int)\n",
        "    for i in range(len(day)) : \n",
        "        for j in range (i,len(day)):\n",
        "            ansMatrix[i][j]=not(day[i][2] ^ day[j][2])\n",
        "\n",
        "    return ansMatrix\n",
        "\n",
        "ansVector = []\n",
        "for i in range(len(days)):\n",
        "    ansVector.append(eachDayMat(days[i]))\n",
        "\n",
        "final = np.sum(ansVector, axis=0)\n",
        "# final-=len(days)//2"
      ]
    },
    {
      "cell_type": "code",
      "execution_count": 21,
      "metadata": {},
      "outputs": [
        {
          "name": "stdout",
          "output_type": "stream",
          "text": [
            "Consecutive: 7-8 02:20:00-02:40:00 67.92%\n",
            "Consecutive: 22-23 07:20:00-07:40:00 35.84%\n",
            "Consecutive: 43-44 14:20:00-14:40:00 35.84%\n",
            "Consecutive: 68-69 22:40:00-23:00:00 30.18%\n"
          ]
        }
      ],
      "source": [
        "bias=.63\n",
        "# float(input('Bias:')) \n",
        "\n",
        "\n",
        "\n",
        "for i in range(len(final)):\n",
        "    for j in range (i,len(final)):\n",
        "        if (final[i][j]>(bias*uniqueDaysCount) or final[i][j]<((1-bias)*uniqueDaysCount) )and (not i==j):\n",
        "            firstouterCandles = 60//timeFrame\n",
        "            lastouterCandles = CandlesInDay - firstouterCandles\n",
        "            if(i<firstouterCandles or j<firstouterCandles or i>lastouterCandles or j>lastouterCandles):\n",
        "                continue\n",
        "            else:\n",
        "                if(j-i==1):\n",
        "                    \n",
        "                    print(f\"Consecutive: {i}-{j}\",f\"{candleToTime(i)}-{candleToTime(j)}\",f\"{int(final[i][j]/uniqueDaysCount*10000)/100}%\")\n",
        "                    \n",
        "                \n",
        "\n",
        "\n",
        "\n"
      ]
    }
  ],
  "metadata": {
    "colab": {
      "name": "ML-Course.ipynb",
      "provenance": []
    },
    "kernelspec": {
      "display_name": "Python 3",
      "name": "python3"
    },
    "language_info": {
      "codemirror_mode": {
        "name": "ipython",
        "version": 3
      },
      "file_extension": ".py",
      "mimetype": "text/x-python",
      "name": "python",
      "nbconvert_exporter": "python",
      "pygments_lexer": "ipython3",
      "version": "3.10.4"
    }
  },
  "nbformat": 4,
  "nbformat_minor": 0
}
